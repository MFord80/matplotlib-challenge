{
 "cells": [
  {
   "cell_type": "markdown",
   "metadata": {},
   "source": [
    "## Observations and Insights "
   ]
  },
  {
   "cell_type": "markdown",
   "metadata": {},
   "source": [
    "The following observations can be made from the statistical analysis conducted in this report:  \n",
    "* Of the nine drug regimens trialled Capomulin and Ramicane performed the best in terms of reducing the volume of the SCC tumour growth.\n",
    "* None of the other seven drug regimens produced results that were significantly better than the placebo group.\n",
    "* Further analysis would be required to determine the more effective drug regimen between Capomulin and Ramicane. (The initial analysis presented in this report suggests they are of similar effectiveness.)\n",
    "* Mice with less mass had a moderate correlation with having a reduced final tumour volume. This correlation increased to a strong correlation for mice on the Capomulin drug regimen.\n"
   ]
  },
  {
   "cell_type": "markdown",
   "metadata": {},
   "source": [
    "# Statistical Analysis"
   ]
  },
  {
   "cell_type": "code",
   "execution_count": 1,
   "metadata": {},
   "outputs": [
    {
     "data": {
      "text/html": [
       "<div>\n",
       "<style scoped>\n",
       "    .dataframe tbody tr th:only-of-type {\n",
       "        vertical-align: middle;\n",
       "    }\n",
       "\n",
       "    .dataframe tbody tr th {\n",
       "        vertical-align: top;\n",
       "    }\n",
       "\n",
       "    .dataframe thead th {\n",
       "        text-align: right;\n",
       "    }\n",
       "</style>\n",
       "<table border=\"1\" class=\"dataframe\">\n",
       "  <thead>\n",
       "    <tr style=\"text-align: right;\">\n",
       "      <th></th>\n",
       "      <th>Mouse ID</th>\n",
       "      <th>Timepoint</th>\n",
       "      <th>Tumour Volume (mm3)</th>\n",
       "      <th>Metastatic Sites</th>\n",
       "      <th>Drug Regimen</th>\n",
       "      <th>Sex</th>\n",
       "      <th>Age_months</th>\n",
       "      <th>Weight (g)</th>\n",
       "    </tr>\n",
       "  </thead>\n",
       "  <tbody>\n",
       "    <tr>\n",
       "      <th>0</th>\n",
       "      <td>b128</td>\n",
       "      <td>0</td>\n",
       "      <td>45.000000</td>\n",
       "      <td>0</td>\n",
       "      <td>Capomulin</td>\n",
       "      <td>Female</td>\n",
       "      <td>9</td>\n",
       "      <td>22</td>\n",
       "    </tr>\n",
       "    <tr>\n",
       "      <th>1</th>\n",
       "      <td>f932</td>\n",
       "      <td>0</td>\n",
       "      <td>45.000000</td>\n",
       "      <td>0</td>\n",
       "      <td>Ketapril</td>\n",
       "      <td>Male</td>\n",
       "      <td>15</td>\n",
       "      <td>29</td>\n",
       "    </tr>\n",
       "    <tr>\n",
       "      <th>2</th>\n",
       "      <td>g107</td>\n",
       "      <td>0</td>\n",
       "      <td>45.000000</td>\n",
       "      <td>0</td>\n",
       "      <td>Ketapril</td>\n",
       "      <td>Female</td>\n",
       "      <td>2</td>\n",
       "      <td>29</td>\n",
       "    </tr>\n",
       "    <tr>\n",
       "      <th>3</th>\n",
       "      <td>a457</td>\n",
       "      <td>0</td>\n",
       "      <td>45.000000</td>\n",
       "      <td>0</td>\n",
       "      <td>Ketapril</td>\n",
       "      <td>Female</td>\n",
       "      <td>11</td>\n",
       "      <td>30</td>\n",
       "    </tr>\n",
       "    <tr>\n",
       "      <th>4</th>\n",
       "      <td>c819</td>\n",
       "      <td>0</td>\n",
       "      <td>45.000000</td>\n",
       "      <td>0</td>\n",
       "      <td>Ketapril</td>\n",
       "      <td>Male</td>\n",
       "      <td>21</td>\n",
       "      <td>25</td>\n",
       "    </tr>\n",
       "    <tr>\n",
       "      <th>...</th>\n",
       "      <td>...</td>\n",
       "      <td>...</td>\n",
       "      <td>...</td>\n",
       "      <td>...</td>\n",
       "      <td>...</td>\n",
       "      <td>...</td>\n",
       "      <td>...</td>\n",
       "      <td>...</td>\n",
       "    </tr>\n",
       "    <tr>\n",
       "      <th>1888</th>\n",
       "      <td>r944</td>\n",
       "      <td>45</td>\n",
       "      <td>41.581521</td>\n",
       "      <td>2</td>\n",
       "      <td>Capomulin</td>\n",
       "      <td>Male</td>\n",
       "      <td>12</td>\n",
       "      <td>25</td>\n",
       "    </tr>\n",
       "    <tr>\n",
       "      <th>1889</th>\n",
       "      <td>u364</td>\n",
       "      <td>45</td>\n",
       "      <td>31.023923</td>\n",
       "      <td>3</td>\n",
       "      <td>Capomulin</td>\n",
       "      <td>Male</td>\n",
       "      <td>18</td>\n",
       "      <td>17</td>\n",
       "    </tr>\n",
       "    <tr>\n",
       "      <th>1890</th>\n",
       "      <td>p438</td>\n",
       "      <td>45</td>\n",
       "      <td>61.433892</td>\n",
       "      <td>1</td>\n",
       "      <td>Ceftamin</td>\n",
       "      <td>Female</td>\n",
       "      <td>11</td>\n",
       "      <td>26</td>\n",
       "    </tr>\n",
       "    <tr>\n",
       "      <th>1891</th>\n",
       "      <td>x773</td>\n",
       "      <td>45</td>\n",
       "      <td>58.634971</td>\n",
       "      <td>4</td>\n",
       "      <td>Placebo</td>\n",
       "      <td>Female</td>\n",
       "      <td>21</td>\n",
       "      <td>30</td>\n",
       "    </tr>\n",
       "    <tr>\n",
       "      <th>1892</th>\n",
       "      <td>b879</td>\n",
       "      <td>45</td>\n",
       "      <td>72.555239</td>\n",
       "      <td>2</td>\n",
       "      <td>Stelasyn</td>\n",
       "      <td>Female</td>\n",
       "      <td>4</td>\n",
       "      <td>26</td>\n",
       "    </tr>\n",
       "  </tbody>\n",
       "</table>\n",
       "<p>1893 rows × 8 columns</p>\n",
       "</div>"
      ],
      "text/plain": [
       "     Mouse ID  Timepoint  Tumour Volume (mm3)  Metastatic Sites Drug Regimen  \\\n",
       "0        b128          0            45.000000                 0    Capomulin   \n",
       "1        f932          0            45.000000                 0     Ketapril   \n",
       "2        g107          0            45.000000                 0     Ketapril   \n",
       "3        a457          0            45.000000                 0     Ketapril   \n",
       "4        c819          0            45.000000                 0     Ketapril   \n",
       "...       ...        ...                  ...               ...          ...   \n",
       "1888     r944         45            41.581521                 2    Capomulin   \n",
       "1889     u364         45            31.023923                 3    Capomulin   \n",
       "1890     p438         45            61.433892                 1     Ceftamin   \n",
       "1891     x773         45            58.634971                 4      Placebo   \n",
       "1892     b879         45            72.555239                 2     Stelasyn   \n",
       "\n",
       "         Sex  Age_months  Weight (g)  \n",
       "0     Female           9          22  \n",
       "1       Male          15          29  \n",
       "2     Female           2          29  \n",
       "3     Female          11          30  \n",
       "4       Male          21          25  \n",
       "...      ...         ...         ...  \n",
       "1888    Male          12          25  \n",
       "1889    Male          18          17  \n",
       "1890  Female          11          26  \n",
       "1891  Female          21          30  \n",
       "1892  Female           4          26  \n",
       "\n",
       "[1893 rows x 8 columns]"
      ]
     },
     "execution_count": 1,
     "metadata": {},
     "output_type": "execute_result"
    }
   ],
   "source": [
    "# Dependencies and Setup\n",
    "import matplotlib.pyplot as plt\n",
    "import pandas as pd\n",
    "import scipy.stats as st\n",
    "from scipy.stats import linregress\n",
    "\n",
    "# Study data files\n",
    "mouse_metadata_path = \"data/Mouse_metadata.csv\"\n",
    "study_results_path = \"data/Study_results.csv\"\n",
    "\n",
    "# Read the mouse data and the study results\n",
    "mouse_metadata = pd.read_csv(mouse_metadata_path)\n",
    "study_results = pd.read_csv(study_results_path)\n",
    "\n",
    "# Combine the data into a single dataset\n",
    "combined_data = pd.merge(study_results, mouse_metadata, on=\"Mouse ID\", how=\"left\")\n",
    "\n",
    "# Display the data table for preview\n",
    "combined_data"
   ]
  },
  {
   "cell_type": "code",
   "execution_count": 2,
   "metadata": {},
   "outputs": [
    {
     "name": "stdout",
     "output_type": "stream",
     "text": [
      "There are 249 unique mice in the original data.\n"
     ]
    }
   ],
   "source": [
    "# Checking the number of mice.\n",
    "mice_tot = combined_data[\"Mouse ID\"].unique()\n",
    "print(f\"There are {len(mice_tot)} unique mice in the original data.\")"
   ]
  },
  {
   "cell_type": "code",
   "execution_count": 3,
   "metadata": {},
   "outputs": [
    {
     "name": "stdout",
     "output_type": "stream",
     "text": [
      "The following Mouse IDs had duplicate data for a specific timepoint: ['g989']\n"
     ]
    }
   ],
   "source": [
    "# Getting the duplicate mice by ID number that shows up for Mouse ID and Timepoint.\n",
    "# Create a concatenate column of MouseID and timepoint\n",
    "combined_data[\"concat\"] = combined_data[\"Mouse ID\"] + \"/\" + combined_data[\"Timepoint\"].astype(str)\n",
    "combined_data\n",
    "\n",
    "# Return Mouse ID of duplicate mice\n",
    "duplicated_data = combined_data.loc[combined_data[\"concat\"].duplicated() == True, :]\n",
    "mouse_duplicates = duplicated_data.iloc[:,0].unique()\n",
    "print(f\"The following Mouse IDs had duplicate data for a specific timepoint: {mouse_duplicates}\")"
   ]
  },
  {
   "cell_type": "code",
   "execution_count": 4,
   "metadata": {},
   "outputs": [
    {
     "name": "stdout",
     "output_type": "stream",
     "text": [
      "Dataframe of duplicated data:\n"
     ]
    },
    {
     "data": {
      "text/html": [
       "<div>\n",
       "<style scoped>\n",
       "    .dataframe tbody tr th:only-of-type {\n",
       "        vertical-align: middle;\n",
       "    }\n",
       "\n",
       "    .dataframe tbody tr th {\n",
       "        vertical-align: top;\n",
       "    }\n",
       "\n",
       "    .dataframe thead th {\n",
       "        text-align: right;\n",
       "    }\n",
       "</style>\n",
       "<table border=\"1\" class=\"dataframe\">\n",
       "  <thead>\n",
       "    <tr style=\"text-align: right;\">\n",
       "      <th></th>\n",
       "      <th>Mouse ID</th>\n",
       "      <th>Timepoint</th>\n",
       "      <th>Tumour Volume (mm3)</th>\n",
       "      <th>Metastatic Sites</th>\n",
       "      <th>Drug Regimen</th>\n",
       "      <th>Sex</th>\n",
       "      <th>Age_months</th>\n",
       "      <th>Weight (g)</th>\n",
       "      <th>concat</th>\n",
       "    </tr>\n",
       "  </thead>\n",
       "  <tbody>\n",
       "    <tr>\n",
       "      <th>137</th>\n",
       "      <td>g989</td>\n",
       "      <td>0</td>\n",
       "      <td>45.000000</td>\n",
       "      <td>0</td>\n",
       "      <td>Propriva</td>\n",
       "      <td>Female</td>\n",
       "      <td>21</td>\n",
       "      <td>26</td>\n",
       "      <td>g989/0</td>\n",
       "    </tr>\n",
       "    <tr>\n",
       "      <th>360</th>\n",
       "      <td>g989</td>\n",
       "      <td>5</td>\n",
       "      <td>47.570392</td>\n",
       "      <td>0</td>\n",
       "      <td>Propriva</td>\n",
       "      <td>Female</td>\n",
       "      <td>21</td>\n",
       "      <td>26</td>\n",
       "      <td>g989/5</td>\n",
       "    </tr>\n",
       "    <tr>\n",
       "      <th>681</th>\n",
       "      <td>g989</td>\n",
       "      <td>10</td>\n",
       "      <td>49.880528</td>\n",
       "      <td>0</td>\n",
       "      <td>Propriva</td>\n",
       "      <td>Female</td>\n",
       "      <td>21</td>\n",
       "      <td>26</td>\n",
       "      <td>g989/10</td>\n",
       "    </tr>\n",
       "    <tr>\n",
       "      <th>869</th>\n",
       "      <td>g989</td>\n",
       "      <td>15</td>\n",
       "      <td>53.442020</td>\n",
       "      <td>0</td>\n",
       "      <td>Propriva</td>\n",
       "      <td>Female</td>\n",
       "      <td>21</td>\n",
       "      <td>26</td>\n",
       "      <td>g989/15</td>\n",
       "    </tr>\n",
       "    <tr>\n",
       "      <th>1111</th>\n",
       "      <td>g989</td>\n",
       "      <td>20</td>\n",
       "      <td>54.657650</td>\n",
       "      <td>1</td>\n",
       "      <td>Propriva</td>\n",
       "      <td>Female</td>\n",
       "      <td>21</td>\n",
       "      <td>26</td>\n",
       "      <td>g989/20</td>\n",
       "    </tr>\n",
       "  </tbody>\n",
       "</table>\n",
       "</div>"
      ],
      "text/plain": [
       "     Mouse ID  Timepoint  Tumour Volume (mm3)  Metastatic Sites Drug Regimen  \\\n",
       "137      g989          0            45.000000                 0     Propriva   \n",
       "360      g989          5            47.570392                 0     Propriva   \n",
       "681      g989         10            49.880528                 0     Propriva   \n",
       "869      g989         15            53.442020                 0     Propriva   \n",
       "1111     g989         20            54.657650                 1     Propriva   \n",
       "\n",
       "         Sex  Age_months  Weight (g)   concat  \n",
       "137   Female          21          26   g989/0  \n",
       "360   Female          21          26   g989/5  \n",
       "681   Female          21          26  g989/10  \n",
       "869   Female          21          26  g989/15  \n",
       "1111  Female          21          26  g989/20  "
      ]
     },
     "execution_count": 4,
     "metadata": {},
     "output_type": "execute_result"
    }
   ],
   "source": [
    "# Optional: Get all the data for the duplicate mouse ID.\n",
    "# Dataframe of all rows of duplicated data\n",
    "print(\"Dataframe of duplicated data:\")\n",
    "duplicated_data"
   ]
  },
  {
   "cell_type": "code",
   "execution_count": 5,
   "metadata": {},
   "outputs": [
    {
     "data": {
      "text/html": [
       "<div>\n",
       "<style scoped>\n",
       "    .dataframe tbody tr th:only-of-type {\n",
       "        vertical-align: middle;\n",
       "    }\n",
       "\n",
       "    .dataframe tbody tr th {\n",
       "        vertical-align: top;\n",
       "    }\n",
       "\n",
       "    .dataframe thead th {\n",
       "        text-align: right;\n",
       "    }\n",
       "</style>\n",
       "<table border=\"1\" class=\"dataframe\">\n",
       "  <thead>\n",
       "    <tr style=\"text-align: right;\">\n",
       "      <th></th>\n",
       "      <th>Mouse ID</th>\n",
       "      <th>Timepoint</th>\n",
       "      <th>Tumour Volume (mm3)</th>\n",
       "      <th>Metastatic Sites</th>\n",
       "      <th>Drug Regimen</th>\n",
       "      <th>Sex</th>\n",
       "      <th>Age_months</th>\n",
       "      <th>Weight (g)</th>\n",
       "      <th>concat</th>\n",
       "    </tr>\n",
       "  </thead>\n",
       "  <tbody>\n",
       "    <tr>\n",
       "      <th>0</th>\n",
       "      <td>b128</td>\n",
       "      <td>0</td>\n",
       "      <td>45.000000</td>\n",
       "      <td>0</td>\n",
       "      <td>Capomulin</td>\n",
       "      <td>Female</td>\n",
       "      <td>9</td>\n",
       "      <td>22</td>\n",
       "      <td>b128/0</td>\n",
       "    </tr>\n",
       "    <tr>\n",
       "      <th>1</th>\n",
       "      <td>f932</td>\n",
       "      <td>0</td>\n",
       "      <td>45.000000</td>\n",
       "      <td>0</td>\n",
       "      <td>Ketapril</td>\n",
       "      <td>Male</td>\n",
       "      <td>15</td>\n",
       "      <td>29</td>\n",
       "      <td>f932/0</td>\n",
       "    </tr>\n",
       "    <tr>\n",
       "      <th>2</th>\n",
       "      <td>g107</td>\n",
       "      <td>0</td>\n",
       "      <td>45.000000</td>\n",
       "      <td>0</td>\n",
       "      <td>Ketapril</td>\n",
       "      <td>Female</td>\n",
       "      <td>2</td>\n",
       "      <td>29</td>\n",
       "      <td>g107/0</td>\n",
       "    </tr>\n",
       "    <tr>\n",
       "      <th>3</th>\n",
       "      <td>a457</td>\n",
       "      <td>0</td>\n",
       "      <td>45.000000</td>\n",
       "      <td>0</td>\n",
       "      <td>Ketapril</td>\n",
       "      <td>Female</td>\n",
       "      <td>11</td>\n",
       "      <td>30</td>\n",
       "      <td>a457/0</td>\n",
       "    </tr>\n",
       "    <tr>\n",
       "      <th>4</th>\n",
       "      <td>c819</td>\n",
       "      <td>0</td>\n",
       "      <td>45.000000</td>\n",
       "      <td>0</td>\n",
       "      <td>Ketapril</td>\n",
       "      <td>Male</td>\n",
       "      <td>21</td>\n",
       "      <td>25</td>\n",
       "      <td>c819/0</td>\n",
       "    </tr>\n",
       "    <tr>\n",
       "      <th>...</th>\n",
       "      <td>...</td>\n",
       "      <td>...</td>\n",
       "      <td>...</td>\n",
       "      <td>...</td>\n",
       "      <td>...</td>\n",
       "      <td>...</td>\n",
       "      <td>...</td>\n",
       "      <td>...</td>\n",
       "      <td>...</td>\n",
       "    </tr>\n",
       "    <tr>\n",
       "      <th>1888</th>\n",
       "      <td>r944</td>\n",
       "      <td>45</td>\n",
       "      <td>41.581521</td>\n",
       "      <td>2</td>\n",
       "      <td>Capomulin</td>\n",
       "      <td>Male</td>\n",
       "      <td>12</td>\n",
       "      <td>25</td>\n",
       "      <td>r944/45</td>\n",
       "    </tr>\n",
       "    <tr>\n",
       "      <th>1889</th>\n",
       "      <td>u364</td>\n",
       "      <td>45</td>\n",
       "      <td>31.023923</td>\n",
       "      <td>3</td>\n",
       "      <td>Capomulin</td>\n",
       "      <td>Male</td>\n",
       "      <td>18</td>\n",
       "      <td>17</td>\n",
       "      <td>u364/45</td>\n",
       "    </tr>\n",
       "    <tr>\n",
       "      <th>1890</th>\n",
       "      <td>p438</td>\n",
       "      <td>45</td>\n",
       "      <td>61.433892</td>\n",
       "      <td>1</td>\n",
       "      <td>Ceftamin</td>\n",
       "      <td>Female</td>\n",
       "      <td>11</td>\n",
       "      <td>26</td>\n",
       "      <td>p438/45</td>\n",
       "    </tr>\n",
       "    <tr>\n",
       "      <th>1891</th>\n",
       "      <td>x773</td>\n",
       "      <td>45</td>\n",
       "      <td>58.634971</td>\n",
       "      <td>4</td>\n",
       "      <td>Placebo</td>\n",
       "      <td>Female</td>\n",
       "      <td>21</td>\n",
       "      <td>30</td>\n",
       "      <td>x773/45</td>\n",
       "    </tr>\n",
       "    <tr>\n",
       "      <th>1892</th>\n",
       "      <td>b879</td>\n",
       "      <td>45</td>\n",
       "      <td>72.555239</td>\n",
       "      <td>2</td>\n",
       "      <td>Stelasyn</td>\n",
       "      <td>Female</td>\n",
       "      <td>4</td>\n",
       "      <td>26</td>\n",
       "      <td>b879/45</td>\n",
       "    </tr>\n",
       "  </tbody>\n",
       "</table>\n",
       "<p>1888 rows × 9 columns</p>\n",
       "</div>"
      ],
      "text/plain": [
       "     Mouse ID  Timepoint  Tumour Volume (mm3)  Metastatic Sites Drug Regimen  \\\n",
       "0        b128          0            45.000000                 0    Capomulin   \n",
       "1        f932          0            45.000000                 0     Ketapril   \n",
       "2        g107          0            45.000000                 0     Ketapril   \n",
       "3        a457          0            45.000000                 0     Ketapril   \n",
       "4        c819          0            45.000000                 0     Ketapril   \n",
       "...       ...        ...                  ...               ...          ...   \n",
       "1888     r944         45            41.581521                 2    Capomulin   \n",
       "1889     u364         45            31.023923                 3    Capomulin   \n",
       "1890     p438         45            61.433892                 1     Ceftamin   \n",
       "1891     x773         45            58.634971                 4      Placebo   \n",
       "1892     b879         45            72.555239                 2     Stelasyn   \n",
       "\n",
       "         Sex  Age_months  Weight (g)   concat  \n",
       "0     Female           9          22   b128/0  \n",
       "1       Male          15          29   f932/0  \n",
       "2     Female           2          29   g107/0  \n",
       "3     Female          11          30   a457/0  \n",
       "4       Male          21          25   c819/0  \n",
       "...      ...         ...         ...      ...  \n",
       "1888    Male          12          25  r944/45  \n",
       "1889    Male          18          17  u364/45  \n",
       "1890  Female          11          26  p438/45  \n",
       "1891  Female          21          30  x773/45  \n",
       "1892  Female           4          26  b879/45  \n",
       "\n",
       "[1888 rows x 9 columns]"
      ]
     },
     "execution_count": 5,
     "metadata": {},
     "output_type": "execute_result"
    }
   ],
   "source": [
    "# Create a clean DataFrame by dropping the duplicate mouse by its ID.\n",
    "# Rows to remove\n",
    "duplicated_rows = duplicated_data.index\n",
    "clean_data = combined_data.drop(duplicated_rows)\n",
    "\n",
    "\n",
    "#Preview of clean data\n",
    "clean_data \n"
   ]
  },
  {
   "cell_type": "code",
   "execution_count": 6,
   "metadata": {},
   "outputs": [
    {
     "name": "stdout",
     "output_type": "stream",
     "text": [
      "There are 249 unique mice in the cleaned data.\n"
     ]
    }
   ],
   "source": [
    "# Checking the number of mice in the clean DataFrame.\n",
    "mice_tot = clean_data[\"Mouse ID\"].unique()\n",
    "print(f\"There are {len(mice_tot)} unique mice in the cleaned data.\")"
   ]
  },
  {
   "cell_type": "markdown",
   "metadata": {},
   "source": [
    "## Summary Statistics"
   ]
  },
  {
   "cell_type": "code",
   "execution_count": 7,
   "metadata": {},
   "outputs": [
    {
     "name": "stdout",
     "output_type": "stream",
     "text": [
      "Summary statistics of the tumour volume (mm3) for each Drug Regimen:\n"
     ]
    },
    {
     "data": {
      "text/html": [
       "<div>\n",
       "<style scoped>\n",
       "    .dataframe tbody tr th:only-of-type {\n",
       "        vertical-align: middle;\n",
       "    }\n",
       "\n",
       "    .dataframe tbody tr th {\n",
       "        vertical-align: top;\n",
       "    }\n",
       "\n",
       "    .dataframe thead th {\n",
       "        text-align: right;\n",
       "    }\n",
       "</style>\n",
       "<table border=\"1\" class=\"dataframe\">\n",
       "  <thead>\n",
       "    <tr style=\"text-align: right;\">\n",
       "      <th></th>\n",
       "      <th>Mean</th>\n",
       "      <th>Median</th>\n",
       "      <th>Variance</th>\n",
       "      <th>Std Dev</th>\n",
       "      <th>SEM</th>\n",
       "    </tr>\n",
       "    <tr>\n",
       "      <th>Drug Regimen</th>\n",
       "      <th></th>\n",
       "      <th></th>\n",
       "      <th></th>\n",
       "      <th></th>\n",
       "      <th></th>\n",
       "    </tr>\n",
       "  </thead>\n",
       "  <tbody>\n",
       "    <tr>\n",
       "      <th>Capomulin</th>\n",
       "      <td>40.675741</td>\n",
       "      <td>41.557809</td>\n",
       "      <td>24.947764</td>\n",
       "      <td>4.994774</td>\n",
       "      <td>0.329346</td>\n",
       "    </tr>\n",
       "    <tr>\n",
       "      <th>Ceftamin</th>\n",
       "      <td>52.591172</td>\n",
       "      <td>51.776157</td>\n",
       "      <td>39.290177</td>\n",
       "      <td>6.268188</td>\n",
       "      <td>0.469821</td>\n",
       "    </tr>\n",
       "    <tr>\n",
       "      <th>Infubinol</th>\n",
       "      <td>52.884795</td>\n",
       "      <td>51.820584</td>\n",
       "      <td>43.128684</td>\n",
       "      <td>6.567243</td>\n",
       "      <td>0.492236</td>\n",
       "    </tr>\n",
       "    <tr>\n",
       "      <th>Ketapril</th>\n",
       "      <td>55.235638</td>\n",
       "      <td>53.698743</td>\n",
       "      <td>68.553577</td>\n",
       "      <td>8.279709</td>\n",
       "      <td>0.603860</td>\n",
       "    </tr>\n",
       "    <tr>\n",
       "      <th>Naftisol</th>\n",
       "      <td>54.331565</td>\n",
       "      <td>52.509285</td>\n",
       "      <td>66.173479</td>\n",
       "      <td>8.134708</td>\n",
       "      <td>0.596466</td>\n",
       "    </tr>\n",
       "    <tr>\n",
       "      <th>Placebo</th>\n",
       "      <td>54.033581</td>\n",
       "      <td>52.288934</td>\n",
       "      <td>61.168083</td>\n",
       "      <td>7.821003</td>\n",
       "      <td>0.581331</td>\n",
       "    </tr>\n",
       "    <tr>\n",
       "      <th>Propriva</th>\n",
       "      <td>52.393463</td>\n",
       "      <td>50.909965</td>\n",
       "      <td>43.138803</td>\n",
       "      <td>6.568014</td>\n",
       "      <td>0.525862</td>\n",
       "    </tr>\n",
       "    <tr>\n",
       "      <th>Ramicane</th>\n",
       "      <td>40.216745</td>\n",
       "      <td>40.673236</td>\n",
       "      <td>23.486704</td>\n",
       "      <td>4.846308</td>\n",
       "      <td>0.320955</td>\n",
       "    </tr>\n",
       "    <tr>\n",
       "      <th>Stelasyn</th>\n",
       "      <td>54.233149</td>\n",
       "      <td>52.431737</td>\n",
       "      <td>59.450562</td>\n",
       "      <td>7.710419</td>\n",
       "      <td>0.573111</td>\n",
       "    </tr>\n",
       "    <tr>\n",
       "      <th>Zoniferol</th>\n",
       "      <td>53.236507</td>\n",
       "      <td>51.818479</td>\n",
       "      <td>48.533355</td>\n",
       "      <td>6.966589</td>\n",
       "      <td>0.516398</td>\n",
       "    </tr>\n",
       "  </tbody>\n",
       "</table>\n",
       "</div>"
      ],
      "text/plain": [
       "                   Mean     Median   Variance   Std Dev       SEM\n",
       "Drug Regimen                                                     \n",
       "Capomulin     40.675741  41.557809  24.947764  4.994774  0.329346\n",
       "Ceftamin      52.591172  51.776157  39.290177  6.268188  0.469821\n",
       "Infubinol     52.884795  51.820584  43.128684  6.567243  0.492236\n",
       "Ketapril      55.235638  53.698743  68.553577  8.279709  0.603860\n",
       "Naftisol      54.331565  52.509285  66.173479  8.134708  0.596466\n",
       "Placebo       54.033581  52.288934  61.168083  7.821003  0.581331\n",
       "Propriva      52.393463  50.909965  43.138803  6.568014  0.525862\n",
       "Ramicane      40.216745  40.673236  23.486704  4.846308  0.320955\n",
       "Stelasyn      54.233149  52.431737  59.450562  7.710419  0.573111\n",
       "Zoniferol     53.236507  51.818479  48.533355  6.966589  0.516398"
      ]
     },
     "execution_count": 7,
     "metadata": {},
     "output_type": "execute_result"
    }
   ],
   "source": [
    "# Generate a summary statistics table of mean, median, variance, standard deviation, and SEM of the tumour volume for each regimen\n",
    "# Use groupby and summary statistical methods to calculate the following properties of each drug regimen: \n",
    "# mean, median, variance, standard deviation, and SEM of the tumour volume. \n",
    "# Assemble the resulting series into a single summary dataframe.\n",
    "\n",
    "# Create group object for drug regimens\n",
    "drug_group = clean_data[[\"Drug Regimen\", \"Tumour Volume (mm3)\"]].groupby(\"Drug Regimen\")\n",
    "\n",
    "# Create summary statistics series\n",
    "tumour_mean = drug_group.mean()\n",
    "tumour_median = drug_group.median()\n",
    "tumour_variance = drug_group.var()\n",
    "tumour_stddev = drug_group.std()\n",
    "tumour_sem = drug_group.sem()\n",
    "\n",
    "# Create dataframe\n",
    "drug_tumour_df = pd.concat([tumour_mean,tumour_median,tumour_variance,tumour_stddev,tumour_sem ], axis=1)\n",
    "drug_tumour_df = drug_tumour_df.set_axis([\"Mean\",\"Median\",\"Variance\",\"Std Dev\",\"SEM\"], axis=1)\n",
    "\n",
    "print(\"Summary statistics of the tumour volume (mm3) for each Drug Regimen:\")\n",
    "drug_tumour_df"
   ]
  },
  {
   "cell_type": "code",
   "execution_count": 8,
   "metadata": {},
   "outputs": [
    {
     "name": "stdout",
     "output_type": "stream",
     "text": [
      "Summary statistics of the tumour volume (mm3) for each Drug Regimen:\n"
     ]
    },
    {
     "data": {
      "text/html": [
       "<div>\n",
       "<style scoped>\n",
       "    .dataframe tbody tr th:only-of-type {\n",
       "        vertical-align: middle;\n",
       "    }\n",
       "\n",
       "    .dataframe tbody tr th {\n",
       "        vertical-align: top;\n",
       "    }\n",
       "\n",
       "    .dataframe thead tr th {\n",
       "        text-align: left;\n",
       "    }\n",
       "\n",
       "    .dataframe thead tr:last-of-type th {\n",
       "        text-align: right;\n",
       "    }\n",
       "</style>\n",
       "<table border=\"1\" class=\"dataframe\">\n",
       "  <thead>\n",
       "    <tr>\n",
       "      <th></th>\n",
       "      <th colspan=\"5\" halign=\"left\">Tumour Volume (mm3)</th>\n",
       "    </tr>\n",
       "    <tr>\n",
       "      <th></th>\n",
       "      <th>mean</th>\n",
       "      <th>median</th>\n",
       "      <th>var</th>\n",
       "      <th>std</th>\n",
       "      <th>sem</th>\n",
       "    </tr>\n",
       "    <tr>\n",
       "      <th>Drug Regimen</th>\n",
       "      <th></th>\n",
       "      <th></th>\n",
       "      <th></th>\n",
       "      <th></th>\n",
       "      <th></th>\n",
       "    </tr>\n",
       "  </thead>\n",
       "  <tbody>\n",
       "    <tr>\n",
       "      <th>Capomulin</th>\n",
       "      <td>40.675741</td>\n",
       "      <td>41.557809</td>\n",
       "      <td>24.947764</td>\n",
       "      <td>4.994774</td>\n",
       "      <td>0.329346</td>\n",
       "    </tr>\n",
       "    <tr>\n",
       "      <th>Ceftamin</th>\n",
       "      <td>52.591172</td>\n",
       "      <td>51.776157</td>\n",
       "      <td>39.290177</td>\n",
       "      <td>6.268188</td>\n",
       "      <td>0.469821</td>\n",
       "    </tr>\n",
       "    <tr>\n",
       "      <th>Infubinol</th>\n",
       "      <td>52.884795</td>\n",
       "      <td>51.820584</td>\n",
       "      <td>43.128684</td>\n",
       "      <td>6.567243</td>\n",
       "      <td>0.492236</td>\n",
       "    </tr>\n",
       "    <tr>\n",
       "      <th>Ketapril</th>\n",
       "      <td>55.235638</td>\n",
       "      <td>53.698743</td>\n",
       "      <td>68.553577</td>\n",
       "      <td>8.279709</td>\n",
       "      <td>0.603860</td>\n",
       "    </tr>\n",
       "    <tr>\n",
       "      <th>Naftisol</th>\n",
       "      <td>54.331565</td>\n",
       "      <td>52.509285</td>\n",
       "      <td>66.173479</td>\n",
       "      <td>8.134708</td>\n",
       "      <td>0.596466</td>\n",
       "    </tr>\n",
       "    <tr>\n",
       "      <th>Placebo</th>\n",
       "      <td>54.033581</td>\n",
       "      <td>52.288934</td>\n",
       "      <td>61.168083</td>\n",
       "      <td>7.821003</td>\n",
       "      <td>0.581331</td>\n",
       "    </tr>\n",
       "    <tr>\n",
       "      <th>Propriva</th>\n",
       "      <td>52.393463</td>\n",
       "      <td>50.909965</td>\n",
       "      <td>43.138803</td>\n",
       "      <td>6.568014</td>\n",
       "      <td>0.525862</td>\n",
       "    </tr>\n",
       "    <tr>\n",
       "      <th>Ramicane</th>\n",
       "      <td>40.216745</td>\n",
       "      <td>40.673236</td>\n",
       "      <td>23.486704</td>\n",
       "      <td>4.846308</td>\n",
       "      <td>0.320955</td>\n",
       "    </tr>\n",
       "    <tr>\n",
       "      <th>Stelasyn</th>\n",
       "      <td>54.233149</td>\n",
       "      <td>52.431737</td>\n",
       "      <td>59.450562</td>\n",
       "      <td>7.710419</td>\n",
       "      <td>0.573111</td>\n",
       "    </tr>\n",
       "    <tr>\n",
       "      <th>Zoniferol</th>\n",
       "      <td>53.236507</td>\n",
       "      <td>51.818479</td>\n",
       "      <td>48.533355</td>\n",
       "      <td>6.966589</td>\n",
       "      <td>0.516398</td>\n",
       "    </tr>\n",
       "  </tbody>\n",
       "</table>\n",
       "</div>"
      ],
      "text/plain": [
       "             Tumour Volume (mm3)                                          \n",
       "                            mean     median        var       std       sem\n",
       "Drug Regimen                                                              \n",
       "Capomulin              40.675741  41.557809  24.947764  4.994774  0.329346\n",
       "Ceftamin               52.591172  51.776157  39.290177  6.268188  0.469821\n",
       "Infubinol              52.884795  51.820584  43.128684  6.567243  0.492236\n",
       "Ketapril               55.235638  53.698743  68.553577  8.279709  0.603860\n",
       "Naftisol               54.331565  52.509285  66.173479  8.134708  0.596466\n",
       "Placebo                54.033581  52.288934  61.168083  7.821003  0.581331\n",
       "Propriva               52.393463  50.909965  43.138803  6.568014  0.525862\n",
       "Ramicane               40.216745  40.673236  23.486704  4.846308  0.320955\n",
       "Stelasyn               54.233149  52.431737  59.450562  7.710419  0.573111\n",
       "Zoniferol              53.236507  51.818479  48.533355  6.966589  0.516398"
      ]
     },
     "execution_count": 8,
     "metadata": {},
     "output_type": "execute_result"
    }
   ],
   "source": [
    "# Generate a summary statistics table of mean, median, variance, standard deviation, and SEM of the tumour volume for each regimen\n",
    "# Using the aggregation method, produce the same summary statistics in a single line\n",
    "\n",
    "drug_tumour_agg_df = clean_data[[\"Drug Regimen\", \"Tumour Volume (mm3)\"]].groupby(\"Drug Regimen\").agg([\"mean\",\"median\",\"var\",\"std\",\"sem\"])\n",
    "\n",
    "print(\"Summary statistics of the tumour volume (mm3) for each Drug Regimen:\")\n",
    "drug_tumour_agg_df"
   ]
  },
  {
   "cell_type": "markdown",
   "metadata": {},
   "source": [
    "## Bar and Pie Charts"
   ]
  },
  {
   "cell_type": "code",
   "execution_count": 9,
   "metadata": {},
   "outputs": [
    {
     "data": {
      "text/plain": [
       "''"
      ]
     },
     "execution_count": 9,
     "metadata": {},
     "output_type": "execute_result"
    },
    {
     "data": {
      "image/png": "[encoded data removed]",
      "text/plain": [
       "<Figure size 432x288 with 1 Axes>"
      ]
     },
     "metadata": {
      "needs_background": "light"
     },
     "output_type": "display_data"
    }
   ],
   "source": [
    "# Generate a bar plot showing the total number of timepoints for all mice tested for each drug regimen using Pandas.\n",
    "timepoints_df = clean_data[[\"Drug Regimen\",\"Timepoint\"]].groupby(\"Drug Regimen\").count()\n",
    "\n",
    "ax = timepoints_df.plot(kind=\"bar\", legend= False, title= \"Total Number of Timepoints by Drug Regimen\")\n",
    "ax.set_ylabel(\"Total Number of Timepoints\")\n",
    ";"
   ]
  },
  {
   "cell_type": "code",
   "execution_count": 10,
   "metadata": {},
   "outputs": [
    {
     "data": {
      "image/png": "[encoded data removed]",
      "text/plain": [
       "<Figure size 432x288 with 1 Axes>"
      ]
     },
     "metadata": {
      "needs_background": "light"
     },
     "output_type": "display_data"
    }
   ],
   "source": [
    "# Generate a bar plot showing the total number of timepoints for all mice tested for each drug regimen using pyplot.\n",
    "x = timepoints_df.index\n",
    "y = timepoints_df.iloc[:, 0]\n",
    "\n",
    "plt.bar(x, y, width= .5)\n",
    "\n",
    "plt.xticks(rotation=90)\n",
    "\n",
    "plt.title(\"Total Number of Timepoints by Drug Regimen\")\n",
    "plt.xlabel(\"Drug Regimen\")\n",
    "plt.ylabel(\"Total Number of Timepoints\")\n",
    "plt.xlim(-.55,9.5)\n",
    "\n",
    "plt.show()\n"
   ]
  },
  {
   "cell_type": "code",
   "execution_count": 11,
   "metadata": {},
   "outputs": [
    {
     "data": {
      "image/png": "[encoded data removed]",
      "text/plain": [
       "<Figure size 432x288 with 1 Axes>"
      ]
     },
     "metadata": {},
     "output_type": "display_data"
    }
   ],
   "source": [
    "# Generate a pie plot showing the distribution of female versus male mice using Pandas\n",
    "\n",
    "mice_gender_df = mouse_metadata[[\"Sex\",\"Mouse ID\"]].groupby(\"Sex\").count()\n",
    "mice_gender_df = mice_gender_df.rename(columns={\"Mouse ID\": \"\"})\n",
    "\n",
    "ax = mice_gender_df.plot(kind=\"pie\", subplots=True, autopct=\"%1.1f%%\", legend= False, \n",
    "    title= \"Distribution of Female vs Male Mice\", startangle=90)\n"
   ]
  },
  {
   "cell_type": "code",
   "execution_count": 12,
   "metadata": {},
   "outputs": [
    {
     "data": {
      "image/png": "[encoded data removed]",
      "text/plain": [
       "<Figure size 432x288 with 1 Axes>"
      ]
     },
     "metadata": {},
     "output_type": "display_data"
    }
   ],
   "source": [
    "# Generate a pie plot showing the distribution of female versus male mice using pyplot\n",
    "\n",
    "labels = mice_gender_df.index\n",
    "gender = mice_gender_df.iloc[:, 0]\n",
    "\n",
    "plt.title(\"Distribution of Female vs Male Mice\")\n",
    "\n",
    "plt.pie(gender, labels=labels,\n",
    "        autopct=\"%1.1f%%\",\n",
    "        startangle=90)\n",
    "plt.show()\n"
   ]
  },
  {
   "cell_type": "markdown",
   "metadata": {},
   "source": [
    "## Quartiles, Outliers and Boxplots"
   ]
  },
  {
   "cell_type": "code",
   "execution_count": 13,
   "metadata": {},
   "outputs": [],
   "source": [
    "# Calculate the final tumor volume of each mouse across four of the treatment regimens:  \n",
    "# Capomulin, Ramicane, Infubinol, and Ceftamin\n",
    "\n",
    "# Start by getting the last (greatest) timepoint for each mouse\n",
    "max_timepoint_grp = clean_data[[\"Mouse ID\",\"Timepoint\"]].groupby(\"Mouse ID\")\n",
    "max_tp_df = max_timepoint_grp.max()\n",
    "max_tp_df[\"concat\"] = max_tp_df.index + \"/\" + max_tp_df[\"Timepoint\"].astype(str)\n",
    "max_tp_df = max_tp_df.rename(columns={\"Timepoint\": \"Max Timepoint\"})\n",
    "\n",
    "# Merge this group df with the original dataframe to get the tumour volume at the last timepoint\n",
    "clean_max_tp = pd.merge(clean_data, max_tp_df, on=\"concat\", how=\"inner\")\n"
   ]
  },
  {
   "cell_type": "code",
   "execution_count": 14,
   "metadata": {},
   "outputs": [],
   "source": [
    "# Put treatments into a list for for loop (and later for plot labels)\n",
    "treatments = [\"Capomulin\", \"Ramicane\", \"Infubinol\", \"Ceftamin\"]\n",
    "\n",
    "# Create empty list to fill with tumour vol data (for plotting)\n",
    "# Also empty list of drug regimen names to enable filtering of tumour volume data by regimen \n",
    "tumour_vol = []\n",
    "drug_regimen = []\n",
    "\n",
    "# Calculate the IQR and quantitatively determine if there are any potential outliers. \n",
    "    # Locate the rows which contain mice on each drug and get the tumour volumes\n",
    "for regimen in treatments:\n",
    "    for index, row in clean_max_tp.iterrows():\n",
    "        if clean_max_tp.loc[index,\"Drug Regimen\"] == regimen:\n",
    "            tumour_vol.append(clean_max_tp.loc[index,\"Tumour Volume (mm3)\"])\n",
    "    # get drug regimen name \n",
    "            drug_regimen.append(clean_max_tp.loc[index,\"Drug Regimen\"])\n",
    " "
   ]
  },
  {
   "cell_type": "code",
   "execution_count": 15,
   "metadata": {},
   "outputs": [],
   "source": [
    "# Create dataframe and separate data sets per drug regimen by filtering\n",
    "vol_by_drug_df = pd.DataFrame({\"Drug Regimen\": drug_regimen,\n",
    "                                \"Tumour Volume (mm3)\": tumour_vol})\n",
    "\n",
    "cap_data = vol_by_drug_df.loc[vol_by_drug_df[\"Drug Regimen\"] == \"Capomulin\", \"Tumour Volume (mm3)\"].reset_index(drop=True)\n",
    "ram_data = vol_by_drug_df.loc[vol_by_drug_df[\"Drug Regimen\"] == \"Ramicane\", \"Tumour Volume (mm3)\"].reset_index(drop=True)\n",
    "inf_data = vol_by_drug_df.loc[vol_by_drug_df[\"Drug Regimen\"] == \"Infubinol\", \"Tumour Volume (mm3)\"].reset_index(drop=True)\n",
    "cef_data = vol_by_drug_df.loc[vol_by_drug_df[\"Drug Regimen\"] == \"Ceftamin\", \"Tumour Volume (mm3)\"].reset_index(drop=True)"
   ]
  },
  {
   "cell_type": "code",
   "execution_count": 16,
   "metadata": {},
   "outputs": [
    {
     "name": "stdout",
     "output_type": "stream",
     "text": [
      "For the Capomulin dataset:\n",
      "The lower quartile of the data is: 32.38\n",
      "The upper quartile of the data is: 40.16\n",
      "The interquartile range of the data is: 7.78\n",
      "The the median of the data is: 38.13 \n",
      "Values below 20.70456164999999 could be outliers.\n",
      "Values above 51.83201549 could be outliers.\n",
      "Possible outliers:\n",
      "\n",
      "For the Ramicane dataset:\n",
      "The lower quartile of the data is: 31.56\n",
      "The upper quartile of the data is: 40.66\n",
      "The interquartile range of the data is: 9.1\n",
      "The the median of the data is: 36.56 \n",
      "Values below 17.912664470000003 could be outliers.\n",
      "Values above 54.30681135 could be outliers.\n",
      "Possible outliers:\n",
      "\n",
      "For the Infubinol dataset:\n",
      "The lower quartile of the data is: 54.05\n",
      "The upper quartile of the data is: 65.53\n",
      "The interquartile range of the data is: 11.48\n",
      "The the median of the data is: 60.17 \n",
      "Values below 36.83290494999999 could be outliers.\n",
      "Values above 82.74144559000001 could be outliers.\n",
      "Possible outliers:\n",
      "20    c326\n",
      "Name: Mouse ID, dtype: object\n",
      "\n",
      "For the Ceftamin dataset:\n",
      "The lower quartile of the data is: 48.72\n",
      "The upper quartile of the data is: 64.3\n",
      "The interquartile range of the data is: 15.58\n",
      "The the median of the data is: 59.85 \n",
      "Values below 25.355449580000002 could be outliers.\n",
      "Values above 87.66645829999999 could be outliers.\n",
      "Possible outliers:\n",
      "\n"
     ]
    },
    {
     "data": {
      "text/plain": [
       "['There are 0 possible outliers in the Capomulin data set.',\n",
       " 'There are 0 possible outliers in the Ramicane data set.',\n",
       " 'There are 1 possible outliers in the Infubinol data set.',\n",
       " 'There are 0 possible outliers in the Ceftamin data set.']"
      ]
     },
     "execution_count": 16,
     "metadata": {},
     "output_type": "execute_result"
    }
   ],
   "source": [
    "# Function calculates quartiles, IQR, and poossible outliers for each drug regimen in the treatments list\n",
    "\n",
    "def drug_outliers(reg):\n",
    "    datasets = [cap_data,ram_data,inf_data,cef_data]    \n",
    "    quartiles = datasets[reg].quantile([.25,.5,.75])\n",
    "    lowerq = quartiles[0.25]\n",
    "    upperq = quartiles[0.75]\n",
    "    iqr = upperq-lowerq\n",
    "    print(f\"For the {treatments[reg]} dataset:\")\n",
    "    print(f\"The lower quartile of the data is: {round(lowerq, 2)}\")\n",
    "    print(f\"The upper quartile of the data is: {round(upperq, 2)}\")\n",
    "    print(f\"The interquartile range of the data is: {round(iqr, 2)}\")\n",
    "    print(f\"The the median of the data is: {round(quartiles[0.5], 2)} \")\n",
    "\n",
    "    lower_bound = lowerq - (1.5*iqr)\n",
    "    upper_bound = upperq + (1.5*iqr)\n",
    "    outliers_low = clean_max_tp.loc[(clean_max_tp[\"Drug Regimen\"] == treatments[reg]) &\n",
    "                                (clean_max_tp[\"Tumour Volume (mm3)\"] < lower_bound), :].iloc[:,0]\n",
    "    outliers_hi = clean_max_tp.loc[(clean_max_tp[\"Drug Regimen\"] == treatments[reg]) &\n",
    "                                (clean_max_tp[\"Tumour Volume (mm3)\"] > upper_bound), :].iloc[:,0]\n",
    "    print(f\"Values below {lower_bound} could be outliers.\")\n",
    "    print(f\"Values above {upper_bound} could be outliers.\")\n",
    "    print(\"Possible outliers:\")\n",
    "    outliers = 0\n",
    "    if (len(outliers_low)) > 0:\n",
    "            print(outliers_low)\n",
    "            outliers += len(outliers_low)\n",
    "    if (len(outliers_hi)) > 0:\n",
    "            print(outliers_hi)\n",
    "            outliers += len(outliers_hi)\n",
    "    print(\"\")\n",
    "    return f\"There are {outliers} possible outliers in the {treatments[reg]} data set.\"\n",
    "    \n",
    "[drug_outliers(x) for x in range(4)]\n"
   ]
  },
  {
   "cell_type": "code",
   "execution_count": 17,
   "metadata": {},
   "outputs": [
    {
     "data": {
      "image/png": "[encoded data removed]",
      "text/plain": [
       "<Figure size 432x288 with 1 Axes>"
      ]
     },
     "metadata": {
      "needs_background": "light"
     },
     "output_type": "display_data"
    }
   ],
   "source": [
    "# Generate a box plot of the final tumour volume of each mouse across four regimens of interest\n",
    "# Create the dataframe of all 4 data series\n",
    "boxplot_df = pd.concat([cap_data,ram_data,inf_data,cef_data], axis=1)\n",
    "boxplot_df = boxplot_df.set_axis(treatments, axis=1).T\n",
    "\n",
    "#Plot the 4 data series on the same plot, emphasising the outliers\n",
    "fig1, ax1 = plt.subplots()\n",
    "ax1.boxplot(boxplot_df, flierprops={'marker': 'o', 'markersize': 6, 'markerfacecolor': 'red'})\n",
    "ax1.set_title('Final Tumour Volume by Drug Regimen')\n",
    "ax1.set_xlabel(\"Drug Regimen\")\n",
    "ax1.set_ylabel(\"Tumour Volume (mm3)\")\n",
    "ax1.set_xticklabels(treatments)\n",
    "\n",
    "plt.show()\n"
   ]
  },
  {
   "cell_type": "markdown",
   "metadata": {},
   "source": [
    "## Line and Scatter Plots"
   ]
  },
  {
   "cell_type": "code",
   "execution_count": 18,
   "metadata": {},
   "outputs": [
    {
     "data": {
      "image/png": "[encoded data removed]",
      "text/plain": [
       "<Figure size 432x288 with 1 Axes>"
      ]
     },
     "metadata": {
      "needs_background": "light"
     },
     "output_type": "display_data"
    }
   ],
   "source": [
    "# Generate a line plot of tumour volume vs. time point for a mouse treated with Capomulin\n",
    "# select mouse (first mouse from dataset taken)\n",
    "cap_only_df = clean_data.loc[clean_data[\"Drug Regimen\"] == \"Capomulin\", :]\n",
    "selected_mouse = cap_only_df.iloc[0,0]\n",
    "selected_mouse_df = clean_data.loc[clean_data[\"Mouse ID\"] == selected_mouse, :]\n",
    "\n",
    "# plot tumour volume vs time\n",
    "x_value = selected_mouse_df[\"Timepoint\"]\n",
    "y_value = selected_mouse_df[\"Tumour Volume (mm3)\"]\n",
    "\n",
    "plt.title(f\"Tumour volume vs Timepoint for Mouse {selected_mouse}\")\n",
    "plt.xlabel(\"Timepoint\")\n",
    "plt.ylabel(\"Tumour Volume (mm3)\")\n",
    "\n",
    "plt.plot(x_value, y_value)\n",
    "plt.show()"
   ]
  },
  {
   "cell_type": "code",
   "execution_count": 19,
   "metadata": {},
   "outputs": [
    {
     "data": {
      "image/png": "[encoded data removed]",
      "text/plain": [
       "<Figure size 432x288 with 1 Axes>"
      ]
     },
     "metadata": {
      "needs_background": "light"
     },
     "output_type": "display_data"
    }
   ],
   "source": [
    "# Generate a scatter plot of average tumour volume vs. mouse weight for the Capomulin regimen\n",
    "cap_mouse_group = cap_only_df.groupby(\"Mouse ID\")\n",
    "cap_group_df = cap_mouse_group.mean()\n",
    "\n",
    "x_value = cap_group_df[\"Weight (g)\"]\n",
    "y_value = cap_group_df[\"Tumour Volume (mm3)\"]\n",
    "\n",
    "plt.title(f\"Tumour volume vs Mouse Weight for Capomulin regimen \")\n",
    "plt.xlabel(\"Mouse Weight (g)\")\n",
    "plt.ylabel(\"Average Tumour Volume (mm3)\")\n",
    "\n",
    "plt.scatter(x_value, y_value)\n",
    "plt.show()"
   ]
  },
  {
   "cell_type": "markdown",
   "metadata": {},
   "source": [
    "## Correlation and Regression"
   ]
  },
  {
   "cell_type": "code",
   "execution_count": 20,
   "metadata": {},
   "outputs": [
    {
     "name": "stdout",
     "output_type": "stream",
     "text": [
      "The correlation co-efficient for Mouse Weight and Tumour Volume for mice on the Capomulin regimen is 0.84.\n",
      "There is a strong positive correlation between these factors.\n",
      "The linear regression model for these two factors is: \n",
      "y = 0.95x + 21.55\n"
     ]
    }
   ],
   "source": [
    "# Calculate the correlation coefficient and linear regression model \n",
    "# for mouse weight and average tumour volume for the Capomulin regimen\n",
    "\n",
    "# Correlation coefficient\n",
    "\n",
    "correlation = st.pearsonr(x_value, y_value)\n",
    "print(f\"The correlation co-efficient for Mouse Weight and Tumour Volume for mice on the Capomulin regimen is {round(correlation[0],2)}.\")\n",
    "\n",
    "if correlation[0] > 0:\n",
    "    correlation_direction = \"positive\"\n",
    "else:\n",
    "    correlation_direction = \"negative\"\n",
    "\n",
    "if abs(correlation[0]) < 0.3:\n",
    "    correlation_type = \"no correlation\"\n",
    "elif abs(correlation[0]) < 0.5:\n",
    "    correlation_type = f\"a weak {correlation_direction} correlation\"\n",
    "elif abs(correlation[0]) < 0.7:\n",
    "    correlation_type = f\"a moderate {correlation_direction} correlation\"\n",
    "else:\n",
    "    correlation_type = f\"a strong {correlation_direction} correlation\"\n",
    "print(f\"There is {correlation_type} between these factors.\")\n",
    "\n",
    "\n",
    "# Linear regression\n",
    "(slope, intercept, rvalue, pvalue, stderr) = linregress(x_value, y_value)\n",
    "\n",
    "regress_values = x_value * slope + intercept\n",
    "\n",
    "line_eq = \"y = \" + str(round(slope,2)) + \"x + \" + str(round(intercept,2))\n",
    "\n",
    "print(f\"The linear regression model for these two factors is: \\n{line_eq}\")\n"
   ]
  },
  {
   "cell_type": "code",
   "execution_count": 21,
   "metadata": {},
   "outputs": [
    {
     "data": {
      "image/png": "[encoded data removed]",
      "text/plain": [
       "<Figure size 432x288 with 1 Axes>"
      ]
     },
     "metadata": {
      "needs_background": "light"
     },
     "output_type": "display_data"
    }
   ],
   "source": [
    "# Print linear regression model with scatter plot\n",
    "\n",
    "plt.plot(x_value,regress_values, color = \"red\", alpha=0.6)\n",
    "\n",
    "plt.annotate(line_eq,(20, 36),fontsize=15,color=\"red\", alpha=0.8) \n",
    "\n",
    "# Adjust number coordinates to position annotation\n",
    "\n",
    "plt.title(f\"Tumour volume vs Mouse Weight for Capomulin regimen \")\n",
    "plt.xlabel(\"Mouse Weight (g)\")\n",
    "plt.ylabel(\"Average Tumour Volume (mm3)\")\n",
    "\n",
    "plt.scatter(x_value, y_value)\n",
    "plt.show()"
   ]
  },
  {
   "cell_type": "code",
   "execution_count": null,
   "metadata": {},
   "outputs": [],
   "source": []
  }
 ],
 "metadata": {
  "anaconda-cloud": {},
  "kernelspec": {
   "display_name": "Python 3.7.7 ('PythonData')",
   "language": "python",
   "name": "python3"
  },
  "language_info": {
   "codemirror_mode": {
    "name": "ipython",
    "version": 3
   },
   "file_extension": ".py",
   "mimetype": "text/x-python",
   "name": "python",
   "nbconvert_exporter": "python",
   "pygments_lexer": "ipython3",
   "version": "3.7.7"
  },
  "vscode": {
   "interpreter": {
    "hash": "5ab4271f17fb678f92d8863922ba38472c07151a138a8513aae8a62841bcc2ec"
   }
  }
 },
 "nbformat": 4,
 "nbformat_minor": 4
}
